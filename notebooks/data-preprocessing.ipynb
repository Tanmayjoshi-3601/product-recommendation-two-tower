{
 "cells": [
  {
   "cell_type": "code",
   "execution_count": 2,
   "metadata": {},
   "outputs": [
    {
     "name": "stdout",
     "output_type": "stream",
     "text": [
      "Collecting numpy\n",
      "  Downloading numpy-2.0.2-cp39-cp39-manylinux_2_17_x86_64.manylinux2014_x86_64.whl.metadata (60 kB)\n",
      "Downloading numpy-2.0.2-cp39-cp39-manylinux_2_17_x86_64.manylinux2014_x86_64.whl (19.5 MB)\n",
      "\u001b[2K   \u001b[90m━━━━━━━━━━━━━━━━━━━━━━━━━━━━━━━━━━━━━━━━\u001b[0m \u001b[32m19.5/19.5 MB\u001b[0m \u001b[31m93.1 MB/s\u001b[0m  \u001b[33m0:00:00\u001b[0m6m0:00:01\u001b[0m\n",
      "\u001b[?25hInstalling collected packages: numpy\n",
      "Successfully installed numpy-2.0.2\n"
     ]
    }
   ],
   "source": [
    "!pip install numpy"
   ]
  },
  {
   "cell_type": "code",
   "execution_count": 1,
   "metadata": {},
   "outputs": [],
   "source": [
    "import numpy as np"
   ]
  },
  {
   "cell_type": "code",
   "execution_count": 16,
   "metadata": {},
   "outputs": [
    {
     "name": "stdout",
     "output_type": "stream",
     "text": [
      "{'rating': 5.0, 'title': 'Such a lovely scent but not overpowering.', 'text': \"This spray is really nice. It smells really good, goes on really fine, and does the trick. I will say it feels like you need a lot of it though to get the texture I want. I have a lot of hair, medium thickness. I am comparing to other brands with yucky chemicals so I'm gonna stick with this. Try it!\", 'images': [], 'asin': 'B00YQ6X8EO', 'parent_asin': 'B00YQ6X8EO', 'user_id': 'AGKHLEW2SOWHNMFQIJGBECAF7INQ', 'timestamp': 1588687728923, 'helpful_vote': 0, 'verified_purchase': True}\n"
     ]
    }
   ],
   "source": [
    "from datasets import load_dataset\n",
    "\n",
    "dataset = load_dataset(\"McAuley-Lab/Amazon-Reviews-2023\", \"raw_review_All_Beauty\", trust_remote_code=True)\n",
    "print(dataset[\"full\"][0])\n"
   ]
  },
  {
   "cell_type": "code",
   "execution_count": 21,
   "metadata": {},
   "outputs": [
    {
     "data": {
      "application/vnd.jupyter.widget-view+json": {
       "model_id": "8065709b2a544ba5997bc4901f2247f5",
       "version_major": 2,
       "version_minor": 0
      },
      "text/plain": [
       "Creating CSV from Arrow format:   0%|          | 0/702 [00:00<?, ?ba/s]"
      ]
     },
     "metadata": {},
     "output_type": "display_data"
    },
    {
     "data": {
      "text/plain": [
       "226752321"
      ]
     },
     "execution_count": 21,
     "metadata": {},
     "output_type": "execute_result"
    }
   ],
   "source": [
    "dataset[\"full\"].to_csv(\"amazon_reviews.csv\")"
   ]
  },
  {
   "cell_type": "code",
   "execution_count": 2,
   "metadata": {},
   "outputs": [],
   "source": [
    "import pandas as pd\n",
    "data = pd.read_csv(\"../datasets/amazon_reviews.csv\")"
   ]
  },
  {
   "cell_type": "code",
   "execution_count": 3,
   "metadata": {},
   "outputs": [
    {
     "data": {
      "text/html": [
       "<div>\n",
       "<style scoped>\n",
       "    .dataframe tbody tr th:only-of-type {\n",
       "        vertical-align: middle;\n",
       "    }\n",
       "\n",
       "    .dataframe tbody tr th {\n",
       "        vertical-align: top;\n",
       "    }\n",
       "\n",
       "    .dataframe thead th {\n",
       "        text-align: right;\n",
       "    }\n",
       "</style>\n",
       "<table border=\"1\" class=\"dataframe\">\n",
       "  <thead>\n",
       "    <tr style=\"text-align: right;\">\n",
       "      <th></th>\n",
       "      <th>rating</th>\n",
       "      <th>title</th>\n",
       "      <th>text</th>\n",
       "      <th>images</th>\n",
       "      <th>asin</th>\n",
       "      <th>parent_asin</th>\n",
       "      <th>user_id</th>\n",
       "      <th>timestamp</th>\n",
       "      <th>helpful_vote</th>\n",
       "      <th>verified_purchase</th>\n",
       "    </tr>\n",
       "  </thead>\n",
       "  <tbody>\n",
       "    <tr>\n",
       "      <th>0</th>\n",
       "      <td>5.0</td>\n",
       "      <td>Such a lovely scent but not overpowering.</td>\n",
       "      <td>This spray is really nice. It smells really go...</td>\n",
       "      <td>[]</td>\n",
       "      <td>B00YQ6X8EO</td>\n",
       "      <td>B00YQ6X8EO</td>\n",
       "      <td>AGKHLEW2SOWHNMFQIJGBECAF7INQ</td>\n",
       "      <td>1588687728923</td>\n",
       "      <td>0</td>\n",
       "      <td>True</td>\n",
       "    </tr>\n",
       "    <tr>\n",
       "      <th>1</th>\n",
       "      <td>4.0</td>\n",
       "      <td>Works great but smells a little weird.</td>\n",
       "      <td>This product does what I need it to do, I just...</td>\n",
       "      <td>[]</td>\n",
       "      <td>B081TJ8YS3</td>\n",
       "      <td>B081TJ8YS3</td>\n",
       "      <td>AGKHLEW2SOWHNMFQIJGBECAF7INQ</td>\n",
       "      <td>1588615855070</td>\n",
       "      <td>1</td>\n",
       "      <td>True</td>\n",
       "    </tr>\n",
       "    <tr>\n",
       "      <th>2</th>\n",
       "      <td>5.0</td>\n",
       "      <td>Yes!</td>\n",
       "      <td>Smells good, feels great!</td>\n",
       "      <td>[]</td>\n",
       "      <td>B07PNNCSP9</td>\n",
       "      <td>B097R46CSY</td>\n",
       "      <td>AE74DYR3QUGVPZJ3P7RFWBGIX7XQ</td>\n",
       "      <td>1589665266052</td>\n",
       "      <td>2</td>\n",
       "      <td>True</td>\n",
       "    </tr>\n",
       "    <tr>\n",
       "      <th>3</th>\n",
       "      <td>1.0</td>\n",
       "      <td>Synthetic feeling</td>\n",
       "      <td>Felt synthetic</td>\n",
       "      <td>[]</td>\n",
       "      <td>B09JS339BZ</td>\n",
       "      <td>B09JS339BZ</td>\n",
       "      <td>AFQLNQNQYFWQZPJQZS6V3NZU4QBQ</td>\n",
       "      <td>1643393630220</td>\n",
       "      <td>0</td>\n",
       "      <td>True</td>\n",
       "    </tr>\n",
       "    <tr>\n",
       "      <th>4</th>\n",
       "      <td>5.0</td>\n",
       "      <td>A+</td>\n",
       "      <td>Love it</td>\n",
       "      <td>[]</td>\n",
       "      <td>B08BZ63GMJ</td>\n",
       "      <td>B08BZ63GMJ</td>\n",
       "      <td>AFQLNQNQYFWQZPJQZS6V3NZU4QBQ</td>\n",
       "      <td>1609322563534</td>\n",
       "      <td>0</td>\n",
       "      <td>True</td>\n",
       "    </tr>\n",
       "  </tbody>\n",
       "</table>\n",
       "</div>"
      ],
      "text/plain": [
       "   rating                                      title  \\\n",
       "0     5.0  Such a lovely scent but not overpowering.   \n",
       "1     4.0     Works great but smells a little weird.   \n",
       "2     5.0                                       Yes!   \n",
       "3     1.0                          Synthetic feeling   \n",
       "4     5.0                                         A+   \n",
       "\n",
       "                                                text images        asin  \\\n",
       "0  This spray is really nice. It smells really go...     []  B00YQ6X8EO   \n",
       "1  This product does what I need it to do, I just...     []  B081TJ8YS3   \n",
       "2                          Smells good, feels great!     []  B07PNNCSP9   \n",
       "3                                     Felt synthetic     []  B09JS339BZ   \n",
       "4                                            Love it     []  B08BZ63GMJ   \n",
       "\n",
       "  parent_asin                       user_id      timestamp  helpful_vote  \\\n",
       "0  B00YQ6X8EO  AGKHLEW2SOWHNMFQIJGBECAF7INQ  1588687728923             0   \n",
       "1  B081TJ8YS3  AGKHLEW2SOWHNMFQIJGBECAF7INQ  1588615855070             1   \n",
       "2  B097R46CSY  AE74DYR3QUGVPZJ3P7RFWBGIX7XQ  1589665266052             2   \n",
       "3  B09JS339BZ  AFQLNQNQYFWQZPJQZS6V3NZU4QBQ  1643393630220             0   \n",
       "4  B08BZ63GMJ  AFQLNQNQYFWQZPJQZS6V3NZU4QBQ  1609322563534             0   \n",
       "\n",
       "   verified_purchase  \n",
       "0               True  \n",
       "1               True  \n",
       "2               True  \n",
       "3               True  \n",
       "4               True  "
      ]
     },
     "execution_count": 3,
     "metadata": {},
     "output_type": "execute_result"
    }
   ],
   "source": [
    "data.head()"
   ]
  },
  {
   "cell_type": "code",
   "execution_count": 4,
   "metadata": {},
   "outputs": [
    {
     "ename": "NameError",
     "evalue": "name 'load_dataset' is not defined",
     "output_type": "error",
     "traceback": [
      "\u001b[0;31m---------------------------------------------------------------------------\u001b[0m",
      "\u001b[0;31mNameError\u001b[0m                                 Traceback (most recent call last)",
      "Cell \u001b[0;32mIn[4], line 1\u001b[0m\n\u001b[0;32m----> 1\u001b[0m product_data \u001b[38;5;241m=\u001b[39m load_dataset(\u001b[38;5;124m\"\u001b[39m\u001b[38;5;124mMcAuley-Lab/Amazon-Reviews-2023\u001b[39m\u001b[38;5;124m\"\u001b[39m, \u001b[38;5;124m\"\u001b[39m\u001b[38;5;124mraw_meta_All_Beauty\u001b[39m\u001b[38;5;124m\"\u001b[39m, trust_remote_code\u001b[38;5;241m=\u001b[39m\u001b[38;5;28;01mTrue\u001b[39;00m)\n\u001b[1;32m      2\u001b[0m \u001b[38;5;28mprint\u001b[39m(product_data[\u001b[38;5;124m\"\u001b[39m\u001b[38;5;124mfull\u001b[39m\u001b[38;5;124m\"\u001b[39m][\u001b[38;5;241m0\u001b[39m])\n",
      "\u001b[0;31mNameError\u001b[0m: name 'load_dataset' is not defined"
     ]
    }
   ],
   "source": [
    "product_data = load_dataset(\"McAuley-Lab/Amazon-Reviews-2023\", \"raw_meta_All_Beauty\", trust_remote_code=True)\n",
    "print(product_data[\"full\"][0])"
   ]
  },
  {
   "cell_type": "code",
   "execution_count": 26,
   "metadata": {},
   "outputs": [
    {
     "data": {
      "application/vnd.jupyter.widget-view+json": {
       "model_id": "319f0da4910249da816e58cb1b7c8eb5",
       "version_major": 2,
       "version_minor": 0
      },
      "text/plain": [
       "Creating CSV from Arrow format:   0%|          | 0/113 [00:00<?, ?ba/s]"
      ]
     },
     "metadata": {},
     "output_type": "display_data"
    },
    {
     "data": {
      "text/plain": [
       "206235186"
      ]
     },
     "execution_count": 26,
     "metadata": {},
     "output_type": "execute_result"
    }
   ],
   "source": [
    "product_data[\"full\"].to_csv(\"../datasets/product_data.csv\")"
   ]
  },
  {
   "cell_type": "code",
   "execution_count": null,
   "metadata": {},
   "outputs": [],
   "source": [
    "prod"
   ]
  },
  {
   "cell_type": "code",
   "execution_count": 29,
   "metadata": {},
   "outputs": [
    {
     "data": {
      "text/plain": [
       "(701528, 10)"
      ]
     },
     "execution_count": 29,
     "metadata": {},
     "output_type": "execute_result"
    }
   ],
   "source": [
    "data.shape"
   ]
  },
  {
   "cell_type": "code",
   "execution_count": 30,
   "metadata": {},
   "outputs": [
    {
     "data": {
      "text/plain": [
       "(112590, 16)"
      ]
     },
     "execution_count": 30,
     "metadata": {},
     "output_type": "execute_result"
    }
   ],
   "source": [
    "prod_meta.shape"
   ]
  },
  {
   "cell_type": "code",
   "execution_count": 5,
   "metadata": {},
   "outputs": [],
   "source": [
    "prod_meta = pd.read_csv(\"../datasets/product_data.csv\")"
   ]
  },
  {
   "cell_type": "code",
   "execution_count": 6,
   "metadata": {},
   "outputs": [
    {
     "data": {
      "text/html": [
       "<div>\n",
       "<style scoped>\n",
       "    .dataframe tbody tr th:only-of-type {\n",
       "        vertical-align: middle;\n",
       "    }\n",
       "\n",
       "    .dataframe tbody tr th {\n",
       "        vertical-align: top;\n",
       "    }\n",
       "\n",
       "    .dataframe thead th {\n",
       "        text-align: right;\n",
       "    }\n",
       "</style>\n",
       "<table border=\"1\" class=\"dataframe\">\n",
       "  <thead>\n",
       "    <tr style=\"text-align: right;\">\n",
       "      <th></th>\n",
       "      <th>main_category</th>\n",
       "      <th>title</th>\n",
       "      <th>average_rating</th>\n",
       "      <th>rating_number</th>\n",
       "      <th>features</th>\n",
       "      <th>description</th>\n",
       "      <th>price</th>\n",
       "      <th>images</th>\n",
       "      <th>videos</th>\n",
       "      <th>store</th>\n",
       "      <th>categories</th>\n",
       "      <th>details</th>\n",
       "      <th>parent_asin</th>\n",
       "      <th>bought_together</th>\n",
       "      <th>subtitle</th>\n",
       "      <th>author</th>\n",
       "    </tr>\n",
       "  </thead>\n",
       "  <tbody>\n",
       "    <tr>\n",
       "      <th>0</th>\n",
       "      <td>All Beauty</td>\n",
       "      <td>Howard LC0008 Leather Conditioner, 8-Ounce (4-...</td>\n",
       "      <td>4.8</td>\n",
       "      <td>10</td>\n",
       "      <td>[]</td>\n",
       "      <td>[]</td>\n",
       "      <td>NaN</td>\n",
       "      <td>{'hi_res': array([None,\\n       'https://m.med...</td>\n",
       "      <td>{'title': array([], dtype=object), 'url': arra...</td>\n",
       "      <td>Howard Products</td>\n",
       "      <td>[]</td>\n",
       "      <td>{\"Package Dimensions\": \"7.1 x 5.5 x 3 inches; ...</td>\n",
       "      <td>B01CUPMQZE</td>\n",
       "      <td>NaN</td>\n",
       "      <td>NaN</td>\n",
       "      <td>NaN</td>\n",
       "    </tr>\n",
       "    <tr>\n",
       "      <th>1</th>\n",
       "      <td>All Beauty</td>\n",
       "      <td>Yes to Tomatoes Detoxifying Charcoal Cleanser ...</td>\n",
       "      <td>4.5</td>\n",
       "      <td>3</td>\n",
       "      <td>[]</td>\n",
       "      <td>[]</td>\n",
       "      <td>NaN</td>\n",
       "      <td>{'hi_res': array(['https://m.media-amazon.com/...</td>\n",
       "      <td>{'title': array([], dtype=object), 'url': arra...</td>\n",
       "      <td>Yes To</td>\n",
       "      <td>[]</td>\n",
       "      <td>{\"Item Form\": \"Powder\", \"Skin Type\": \"Acne Pro...</td>\n",
       "      <td>B076WQZGPM</td>\n",
       "      <td>NaN</td>\n",
       "      <td>NaN</td>\n",
       "      <td>NaN</td>\n",
       "    </tr>\n",
       "    <tr>\n",
       "      <th>2</th>\n",
       "      <td>All Beauty</td>\n",
       "      <td>Eye Patch Black Adult with Tie Band (6 Per Pack)</td>\n",
       "      <td>4.4</td>\n",
       "      <td>26</td>\n",
       "      <td>[]</td>\n",
       "      <td>[]</td>\n",
       "      <td>NaN</td>\n",
       "      <td>{'hi_res': array([None, None], dtype=object), ...</td>\n",
       "      <td>{'title': array([], dtype=object), 'url': arra...</td>\n",
       "      <td>Levine Health Products</td>\n",
       "      <td>[]</td>\n",
       "      <td>{\"Manufacturer\": \"Levine Health Products\"}</td>\n",
       "      <td>B000B658RI</td>\n",
       "      <td>NaN</td>\n",
       "      <td>NaN</td>\n",
       "      <td>NaN</td>\n",
       "    </tr>\n",
       "    <tr>\n",
       "      <th>3</th>\n",
       "      <td>All Beauty</td>\n",
       "      <td>Tattoo Eyebrow Stickers, Waterproof Eyebrow, 4...</td>\n",
       "      <td>3.1</td>\n",
       "      <td>102</td>\n",
       "      <td>[]</td>\n",
       "      <td>[]</td>\n",
       "      <td>NaN</td>\n",
       "      <td>{'hi_res': array(['https://m.media-amazon.com/...</td>\n",
       "      <td>{'title': array([], dtype=object), 'url': arra...</td>\n",
       "      <td>Cherioll</td>\n",
       "      <td>[]</td>\n",
       "      <td>{\"Brand\": \"Cherioll\", \"Item Form\": \"Powder\", \"...</td>\n",
       "      <td>B088FKY3VD</td>\n",
       "      <td>NaN</td>\n",
       "      <td>NaN</td>\n",
       "      <td>NaN</td>\n",
       "    </tr>\n",
       "    <tr>\n",
       "      <th>4</th>\n",
       "      <td>All Beauty</td>\n",
       "      <td>Precision Plunger Bars for Cartridge Grips – 9...</td>\n",
       "      <td>4.3</td>\n",
       "      <td>7</td>\n",
       "      <td>['Material: 304 Stainless Steel; Brass tip'\\n ...</td>\n",
       "      <td>['The Precision Plunger Bars are designed to w...</td>\n",
       "      <td>NaN</td>\n",
       "      <td>{'hi_res': array([None], dtype=object), 'large...</td>\n",
       "      <td>{'title': array([], dtype=object), 'url': arra...</td>\n",
       "      <td>Precision</td>\n",
       "      <td>[]</td>\n",
       "      <td>{\"UPC\": \"644287689178\"}</td>\n",
       "      <td>B07NGFDN6G</td>\n",
       "      <td>NaN</td>\n",
       "      <td>NaN</td>\n",
       "      <td>NaN</td>\n",
       "    </tr>\n",
       "  </tbody>\n",
       "</table>\n",
       "</div>"
      ],
      "text/plain": [
       "  main_category                                              title  \\\n",
       "0    All Beauty  Howard LC0008 Leather Conditioner, 8-Ounce (4-...   \n",
       "1    All Beauty  Yes to Tomatoes Detoxifying Charcoal Cleanser ...   \n",
       "2    All Beauty   Eye Patch Black Adult with Tie Band (6 Per Pack)   \n",
       "3    All Beauty  Tattoo Eyebrow Stickers, Waterproof Eyebrow, 4...   \n",
       "4    All Beauty  Precision Plunger Bars for Cartridge Grips – 9...   \n",
       "\n",
       "   average_rating  rating_number  \\\n",
       "0             4.8             10   \n",
       "1             4.5              3   \n",
       "2             4.4             26   \n",
       "3             3.1            102   \n",
       "4             4.3              7   \n",
       "\n",
       "                                            features  \\\n",
       "0                                                 []   \n",
       "1                                                 []   \n",
       "2                                                 []   \n",
       "3                                                 []   \n",
       "4  ['Material: 304 Stainless Steel; Brass tip'\\n ...   \n",
       "\n",
       "                                         description  price  \\\n",
       "0                                                 []    NaN   \n",
       "1                                                 []    NaN   \n",
       "2                                                 []    NaN   \n",
       "3                                                 []    NaN   \n",
       "4  ['The Precision Plunger Bars are designed to w...    NaN   \n",
       "\n",
       "                                              images  \\\n",
       "0  {'hi_res': array([None,\\n       'https://m.med...   \n",
       "1  {'hi_res': array(['https://m.media-amazon.com/...   \n",
       "2  {'hi_res': array([None, None], dtype=object), ...   \n",
       "3  {'hi_res': array(['https://m.media-amazon.com/...   \n",
       "4  {'hi_res': array([None], dtype=object), 'large...   \n",
       "\n",
       "                                              videos                   store  \\\n",
       "0  {'title': array([], dtype=object), 'url': arra...         Howard Products   \n",
       "1  {'title': array([], dtype=object), 'url': arra...                  Yes To   \n",
       "2  {'title': array([], dtype=object), 'url': arra...  Levine Health Products   \n",
       "3  {'title': array([], dtype=object), 'url': arra...                Cherioll   \n",
       "4  {'title': array([], dtype=object), 'url': arra...               Precision   \n",
       "\n",
       "  categories                                            details parent_asin  \\\n",
       "0         []  {\"Package Dimensions\": \"7.1 x 5.5 x 3 inches; ...  B01CUPMQZE   \n",
       "1         []  {\"Item Form\": \"Powder\", \"Skin Type\": \"Acne Pro...  B076WQZGPM   \n",
       "2         []         {\"Manufacturer\": \"Levine Health Products\"}  B000B658RI   \n",
       "3         []  {\"Brand\": \"Cherioll\", \"Item Form\": \"Powder\", \"...  B088FKY3VD   \n",
       "4         []                            {\"UPC\": \"644287689178\"}  B07NGFDN6G   \n",
       "\n",
       "   bought_together  subtitle  author  \n",
       "0              NaN       NaN     NaN  \n",
       "1              NaN       NaN     NaN  \n",
       "2              NaN       NaN     NaN  \n",
       "3              NaN       NaN     NaN  \n",
       "4              NaN       NaN     NaN  "
      ]
     },
     "execution_count": 6,
     "metadata": {},
     "output_type": "execute_result"
    }
   ],
   "source": [
    "prod_meta.head()"
   ]
  },
  {
   "cell_type": "code",
   "execution_count": 7,
   "metadata": {},
   "outputs": [],
   "source": [
    "final_data = pd.merge(data, prod_meta,how=\"left\",on=\"parent_asin\")"
   ]
  },
  {
   "cell_type": "code",
   "execution_count": 8,
   "metadata": {},
   "outputs": [
    {
     "data": {
      "text/plain": [
       "(701528, 25)"
      ]
     },
     "execution_count": 8,
     "metadata": {},
     "output_type": "execute_result"
    }
   ],
   "source": [
    "final_data.shape"
   ]
  },
  {
   "cell_type": "code",
   "execution_count": 9,
   "metadata": {},
   "outputs": [
    {
     "data": {
      "text/html": [
       "<div>\n",
       "<style scoped>\n",
       "    .dataframe tbody tr th:only-of-type {\n",
       "        vertical-align: middle;\n",
       "    }\n",
       "\n",
       "    .dataframe tbody tr th {\n",
       "        vertical-align: top;\n",
       "    }\n",
       "\n",
       "    .dataframe thead th {\n",
       "        text-align: right;\n",
       "    }\n",
       "</style>\n",
       "<table border=\"1\" class=\"dataframe\">\n",
       "  <thead>\n",
       "    <tr style=\"text-align: right;\">\n",
       "      <th></th>\n",
       "      <th>rating</th>\n",
       "      <th>title_x</th>\n",
       "      <th>text</th>\n",
       "      <th>images_x</th>\n",
       "      <th>asin</th>\n",
       "      <th>parent_asin</th>\n",
       "      <th>user_id</th>\n",
       "      <th>timestamp</th>\n",
       "      <th>helpful_vote</th>\n",
       "      <th>verified_purchase</th>\n",
       "      <th>...</th>\n",
       "      <th>description</th>\n",
       "      <th>price</th>\n",
       "      <th>images_y</th>\n",
       "      <th>videos</th>\n",
       "      <th>store</th>\n",
       "      <th>categories</th>\n",
       "      <th>details</th>\n",
       "      <th>bought_together</th>\n",
       "      <th>subtitle</th>\n",
       "      <th>author</th>\n",
       "    </tr>\n",
       "  </thead>\n",
       "  <tbody>\n",
       "    <tr>\n",
       "      <th>0</th>\n",
       "      <td>5.0</td>\n",
       "      <td>Such a lovely scent but not overpowering.</td>\n",
       "      <td>This spray is really nice. It smells really go...</td>\n",
       "      <td>[]</td>\n",
       "      <td>B00YQ6X8EO</td>\n",
       "      <td>B00YQ6X8EO</td>\n",
       "      <td>AGKHLEW2SOWHNMFQIJGBECAF7INQ</td>\n",
       "      <td>1588687728923</td>\n",
       "      <td>0</td>\n",
       "      <td>True</td>\n",
       "      <td>...</td>\n",
       "      <td>['If given the choice, weÕd leave most telltal...</td>\n",
       "      <td>NaN</td>\n",
       "      <td>{'hi_res': array(['https://m.media-amazon.com/...</td>\n",
       "      <td>{'title': array(['Best Hair Product For Summer...</td>\n",
       "      <td>HERBIVORE</td>\n",
       "      <td>[]</td>\n",
       "      <td>{\"Hair Type\": \"Wavy\", \"Material Type Free\": \"D...</td>\n",
       "      <td>NaN</td>\n",
       "      <td>NaN</td>\n",
       "      <td>NaN</td>\n",
       "    </tr>\n",
       "    <tr>\n",
       "      <th>1</th>\n",
       "      <td>4.0</td>\n",
       "      <td>Works great but smells a little weird.</td>\n",
       "      <td>This product does what I need it to do, I just...</td>\n",
       "      <td>[]</td>\n",
       "      <td>B081TJ8YS3</td>\n",
       "      <td>B081TJ8YS3</td>\n",
       "      <td>AGKHLEW2SOWHNMFQIJGBECAF7INQ</td>\n",
       "      <td>1588615855070</td>\n",
       "      <td>1</td>\n",
       "      <td>True</td>\n",
       "      <td>...</td>\n",
       "      <td>[]</td>\n",
       "      <td>NaN</td>\n",
       "      <td>{'hi_res': array(['https://m.media-amazon.com/...</td>\n",
       "      <td>{'title': array(['Easy to apply!'], dtype=obje...</td>\n",
       "      <td>Two Goats Apothecary</td>\n",
       "      <td>[]</td>\n",
       "      <td>{\"Brand\": \"Two Goats Apothecary\", \"Item Form\":...</td>\n",
       "      <td>NaN</td>\n",
       "      <td>NaN</td>\n",
       "      <td>NaN</td>\n",
       "    </tr>\n",
       "    <tr>\n",
       "      <th>2</th>\n",
       "      <td>5.0</td>\n",
       "      <td>Yes!</td>\n",
       "      <td>Smells good, feels great!</td>\n",
       "      <td>[]</td>\n",
       "      <td>B07PNNCSP9</td>\n",
       "      <td>B097R46CSY</td>\n",
       "      <td>AE74DYR3QUGVPZJ3P7RFWBGIX7XQ</td>\n",
       "      <td>1589665266052</td>\n",
       "      <td>2</td>\n",
       "      <td>True</td>\n",
       "      <td>...</td>\n",
       "      <td>['New Road Beauty Paraffin Wax is recommended ...</td>\n",
       "      <td>21.98</td>\n",
       "      <td>{'hi_res': array(['https://m.media-amazon.com/...</td>\n",
       "      <td>{'title': array(['Opening the Creamsicle assor...</td>\n",
       "      <td>New Road Beauty</td>\n",
       "      <td>[]</td>\n",
       "      <td>{\"Package Dimensions\": \"10.5 x 6.4 x 1.6 inche...</td>\n",
       "      <td>NaN</td>\n",
       "      <td>NaN</td>\n",
       "      <td>NaN</td>\n",
       "    </tr>\n",
       "    <tr>\n",
       "      <th>3</th>\n",
       "      <td>1.0</td>\n",
       "      <td>Synthetic feeling</td>\n",
       "      <td>Felt synthetic</td>\n",
       "      <td>[]</td>\n",
       "      <td>B09JS339BZ</td>\n",
       "      <td>B09JS339BZ</td>\n",
       "      <td>AFQLNQNQYFWQZPJQZS6V3NZU4QBQ</td>\n",
       "      <td>1643393630220</td>\n",
       "      <td>0</td>\n",
       "      <td>True</td>\n",
       "      <td>...</td>\n",
       "      <td>[\"Hair Material: Brazilian Virgin Human Hair B...</td>\n",
       "      <td>NaN</td>\n",
       "      <td>{'hi_res': array(['https://m.media-amazon.com/...</td>\n",
       "      <td>{'title': array([], dtype=object), 'url': arra...</td>\n",
       "      <td>muaowig</td>\n",
       "      <td>[]</td>\n",
       "      <td>{\"Brand\": \"muaowig\", \"Material\": \"Human Hair\",...</td>\n",
       "      <td>NaN</td>\n",
       "      <td>NaN</td>\n",
       "      <td>NaN</td>\n",
       "    </tr>\n",
       "    <tr>\n",
       "      <th>4</th>\n",
       "      <td>5.0</td>\n",
       "      <td>A+</td>\n",
       "      <td>Love it</td>\n",
       "      <td>[]</td>\n",
       "      <td>B08BZ63GMJ</td>\n",
       "      <td>B08BZ63GMJ</td>\n",
       "      <td>AFQLNQNQYFWQZPJQZS6V3NZU4QBQ</td>\n",
       "      <td>1609322563534</td>\n",
       "      <td>0</td>\n",
       "      <td>True</td>\n",
       "      <td>...</td>\n",
       "      <td>[]</td>\n",
       "      <td>NaN</td>\n",
       "      <td>{'hi_res': array(['https://m.media-amazon.com/...</td>\n",
       "      <td>{'title': array([], dtype=object), 'url': arra...</td>\n",
       "      <td>Yinhua</td>\n",
       "      <td>[]</td>\n",
       "      <td>{\"Package Dimensions\": \"8.5 x 3.82 x 2.24 inch...</td>\n",
       "      <td>NaN</td>\n",
       "      <td>NaN</td>\n",
       "      <td>NaN</td>\n",
       "    </tr>\n",
       "  </tbody>\n",
       "</table>\n",
       "<p>5 rows × 25 columns</p>\n",
       "</div>"
      ],
      "text/plain": [
       "   rating                                    title_x  \\\n",
       "0     5.0  Such a lovely scent but not overpowering.   \n",
       "1     4.0     Works great but smells a little weird.   \n",
       "2     5.0                                       Yes!   \n",
       "3     1.0                          Synthetic feeling   \n",
       "4     5.0                                         A+   \n",
       "\n",
       "                                                text images_x        asin  \\\n",
       "0  This spray is really nice. It smells really go...       []  B00YQ6X8EO   \n",
       "1  This product does what I need it to do, I just...       []  B081TJ8YS3   \n",
       "2                          Smells good, feels great!       []  B07PNNCSP9   \n",
       "3                                     Felt synthetic       []  B09JS339BZ   \n",
       "4                                            Love it       []  B08BZ63GMJ   \n",
       "\n",
       "  parent_asin                       user_id      timestamp  helpful_vote  \\\n",
       "0  B00YQ6X8EO  AGKHLEW2SOWHNMFQIJGBECAF7INQ  1588687728923             0   \n",
       "1  B081TJ8YS3  AGKHLEW2SOWHNMFQIJGBECAF7INQ  1588615855070             1   \n",
       "2  B097R46CSY  AE74DYR3QUGVPZJ3P7RFWBGIX7XQ  1589665266052             2   \n",
       "3  B09JS339BZ  AFQLNQNQYFWQZPJQZS6V3NZU4QBQ  1643393630220             0   \n",
       "4  B08BZ63GMJ  AFQLNQNQYFWQZPJQZS6V3NZU4QBQ  1609322563534             0   \n",
       "\n",
       "   verified_purchase  ...                                        description  \\\n",
       "0               True  ...  ['If given the choice, weÕd leave most telltal...   \n",
       "1               True  ...                                                 []   \n",
       "2               True  ...  ['New Road Beauty Paraffin Wax is recommended ...   \n",
       "3               True  ...  [\"Hair Material: Brazilian Virgin Human Hair B...   \n",
       "4               True  ...                                                 []   \n",
       "\n",
       "   price                                           images_y  \\\n",
       "0    NaN  {'hi_res': array(['https://m.media-amazon.com/...   \n",
       "1    NaN  {'hi_res': array(['https://m.media-amazon.com/...   \n",
       "2  21.98  {'hi_res': array(['https://m.media-amazon.com/...   \n",
       "3    NaN  {'hi_res': array(['https://m.media-amazon.com/...   \n",
       "4    NaN  {'hi_res': array(['https://m.media-amazon.com/...   \n",
       "\n",
       "                                              videos                 store  \\\n",
       "0  {'title': array(['Best Hair Product For Summer...             HERBIVORE   \n",
       "1  {'title': array(['Easy to apply!'], dtype=obje...  Two Goats Apothecary   \n",
       "2  {'title': array(['Opening the Creamsicle assor...       New Road Beauty   \n",
       "3  {'title': array([], dtype=object), 'url': arra...               muaowig   \n",
       "4  {'title': array([], dtype=object), 'url': arra...                Yinhua   \n",
       "\n",
       "  categories                                            details  \\\n",
       "0         []  {\"Hair Type\": \"Wavy\", \"Material Type Free\": \"D...   \n",
       "1         []  {\"Brand\": \"Two Goats Apothecary\", \"Item Form\":...   \n",
       "2         []  {\"Package Dimensions\": \"10.5 x 6.4 x 1.6 inche...   \n",
       "3         []  {\"Brand\": \"muaowig\", \"Material\": \"Human Hair\",...   \n",
       "4         []  {\"Package Dimensions\": \"8.5 x 3.82 x 2.24 inch...   \n",
       "\n",
       "  bought_together subtitle author  \n",
       "0             NaN      NaN    NaN  \n",
       "1             NaN      NaN    NaN  \n",
       "2             NaN      NaN    NaN  \n",
       "3             NaN      NaN    NaN  \n",
       "4             NaN      NaN    NaN  \n",
       "\n",
       "[5 rows x 25 columns]"
      ]
     },
     "execution_count": 9,
     "metadata": {},
     "output_type": "execute_result"
    }
   ],
   "source": [
    "final_data.head()"
   ]
  },
  {
   "cell_type": "code",
   "execution_count": 10,
   "metadata": {},
   "outputs": [],
   "source": [
    "final_data.to_csv(\"../datasets/merged_data.csv\")"
   ]
  },
  {
   "cell_type": "code",
   "execution_count": null,
   "metadata": {},
   "outputs": [],
   "source": []
  }
 ],
 "metadata": {
  "kernelspec": {
   "display_name": "Python 3 (ipykernel)",
   "language": "python",
   "name": "python3"
  },
  "language_info": {
   "codemirror_mode": {
    "name": "ipython",
    "version": 3
   },
   "file_extension": ".py",
   "mimetype": "text/x-python",
   "name": "python",
   "nbconvert_exporter": "python",
   "pygments_lexer": "ipython3",
   "version": "3.12.4"
  }
 },
 "nbformat": 4,
 "nbformat_minor": 4
}
